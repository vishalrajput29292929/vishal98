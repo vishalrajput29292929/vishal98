{
 "cells": [
  {
   "cell_type": "code",
   "execution_count": 1,
   "id": "703c5727-ad64-443e-ad68-d0ca26308f1b",
   "metadata": {},
   "outputs": [],
   "source": [
    "#1Given an array, check if it contains any duplicates or not.\n",
    "arr = [1, 2, 4, 2, 5, 9]\n"
   ]
  },
  {
   "cell_type": "code",
   "execution_count": 3,
   "id": "7a575bca-0605-4e55-8643-815f3e91fe04",
   "metadata": {},
   "outputs": [
    {
     "data": {
      "text/plain": [
       "[1, 2, 4, 2, 5, 9]"
      ]
     },
     "execution_count": 3,
     "metadata": {},
     "output_type": "execute_result"
    }
   ],
   "source": [
    "arr.copy()"
   ]
  },
  {
   "cell_type": "code",
   "execution_count": 10,
   "id": "6a8da2dd-84ce-46bf-9132-c77dc7ccfef9",
   "metadata": {},
   "outputs": [
    {
     "name": "stdout",
     "output_type": "stream",
     "text": [
      "True\n"
     ]
    }
   ],
   "source": [
    "def check_dup(arr):\n",
    "    \n",
    "    for i in range(len(arr)):\n",
    "        if i == i:\n",
    "            return True\n",
    "\n",
    "#driver code \n",
    "arr = [1, 2, 4, 2, 5, 9]\n",
    "print(check_dup(arr))"
   ]
  },
  {
   "cell_type": "code",
   "execution_count": 11,
   "id": "96d091de-9b55-4698-89ad-bb93aebc53f7",
   "metadata": {},
   "outputs": [],
   "source": [
    "#2.Given an array and an integer k, rotate the array to the right by k steps.\n",
    "\n"
   ]
  },
  {
   "cell_type": "code",
   "execution_count": 3,
   "id": "3590690b-6a42-4d02-8ecb-b806eb3a2a26",
   "metadata": {},
   "outputs": [
    {
     "name": "stdout",
     "output_type": "stream",
     "text": [
      "[7, 6, 5, 4]\n"
     ]
    }
   ],
   "source": [
    "def rotate(arr):\n",
    "    for i in range(len(arr)):  \n",
    "        print(arr[6:2:-1])\n",
    "        \n",
    "\n",
    "    \n",
    "    \n",
    "#driver code\n",
    "arr = [1, 2, 3, 4, 5, 6, 7]\n",
    "k = 3\n",
    "print(arr[6:2:-1])"
   ]
  },
  {
   "cell_type": "code",
   "execution_count": 5,
   "id": "07a06f8b-5ba9-4661-b988-d2fae108f594",
   "metadata": {},
   "outputs": [],
   "source": [
    "#3.Reverse the given array in-place, means without using any extra data structure.\n",
    "arr2 = [2, 4, 5, 7, 9, 12]\n"
   ]
  },
  {
   "cell_type": "code",
   "execution_count": 32,
   "id": "82580938-d8ba-4981-bb81-de70ecd848d0",
   "metadata": {},
   "outputs": [
    {
     "name": "stdout",
     "output_type": "stream",
     "text": [
      "[12, 9, 7, 5, 4, 2]\n"
     ]
    }
   ],
   "source": [
    "#time complexity is O(1)\n",
    "def reversearray(arr):\n",
    "    if len(arr) == 1:\n",
    "        return arr\n",
    "    else:\n",
    "        return arr[::-1]\n",
    "    \n",
    "#driver code   \n",
    "arr = [2,4,5,7,9,12]\n",
    "print(reversearray(arr))"
   ]
  },
  {
   "cell_type": "code",
   "execution_count": 33,
   "id": "ebc0dde7-7833-435f-a428-0cacc362b10c",
   "metadata": {},
   "outputs": [],
   "source": [
    "#4Given an array of integers, find the maximum element in an array"
   ]
  },
  {
   "cell_type": "code",
   "execution_count": 26,
   "id": "f341b15c-8f50-4d45-a6ca-ed89ccf22794",
   "metadata": {},
   "outputs": [
    {
     "name": "stdout",
     "output_type": "stream",
     "text": [
      "Largest element is: 99\n"
     ]
    }
   ],
   "source": [
    "def Max(arr):\n",
    "    max = arr[0]\n",
    "    for x in arr:\n",
    "        if x > max:\n",
    "            max = x\n",
    "    return max\n",
    " \n",
    "arr = [10, 20, 4, 45, 99]\n",
    "print(\"Largest element is:\", Max(arr))"
   ]
  },
  {
   "cell_type": "code",
   "execution_count": 27,
   "id": "6979ab14-a56c-4ef4-a55c-e788df09fb38",
   "metadata": {},
   "outputs": [],
   "source": [
    "#5Given a sorted array, remove the duplicate element without using any extra data structure.\n",
    "arr = [1, 1, 2, 2, 2, 3, 3, 4, 4, 4, 5, 5]\n",
    "Output = [1, 2, 3, 4, 5]\n"
   ]
  },
  {
   "cell_type": "code",
   "execution_count": 2,
   "id": "c55d36a1-14f7-4c3f-b463-50ae9c79acd4",
   "metadata": {},
   "outputs": [
    {
     "name": "stdout",
     "output_type": "stream",
     "text": [
      "[4, 5, 7, 8, 6, 3, 2, 1]\n"
     ]
    }
   ],
   "source": [
    "def remove_dup(arr):\n",
    "    elements = []\n",
    "    for num in arr:\n",
    "        if num not in elements:\n",
    "            unique_elements.append(num)\n",
    "    return unique_elements\n",
    "\n",
    "# Example usage:\n",
    "another_array = [4, 5, 7, 8, 5, 4, 4, 6, 3, 2, 1]\n",
    "result_another = remove_dup(another_array)\n",
    "print(result_another)"
   ]
  },
  {
   "cell_type": "code",
   "execution_count": null,
   "id": "628e5d41-93cc-41d7-9390-f9c63a09850f",
   "metadata": {},
   "outputs": [],
   "source": []
  }
 ],
 "metadata": {
  "kernelspec": {
   "display_name": "Python 3 (ipykernel)",
   "language": "python",
   "name": "python3"
  },
  "language_info": {
   "codemirror_mode": {
    "name": "ipython",
    "version": 3
   },
   "file_extension": ".py",
   "mimetype": "text/x-python",
   "name": "python",
   "nbconvert_exporter": "python",
   "pygments_lexer": "ipython3",
   "version": "3.10.8"
  }
 },
 "nbformat": 4,
 "nbformat_minor": 5
}
